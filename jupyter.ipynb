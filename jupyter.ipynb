{
 "cells": [
  {
   "cell_type": "code",
   "execution_count": null,
   "id": "3310cf19",
   "metadata": {},
   "outputs": [],
   "source": [
    "import pandas as pd\n",
    "import matplotlib.pyplot as plt\n",
    "import seaborn as sns\n",
    "\n",
    "url = \"https://covid.ourworldindata.org/data/owid-covid-data.csv\"\n",
    "df = pd.read_csv(url)\n",
    "\n",
    "df = df[['location', 'date', 'total_cases', 'total_deaths']]\n",
    "df['date'] = pd.to_datetime(df['date'])\n",
    "\n",
    "latest_date = df['date'].max()\n",
    "latest_df = df[df['date'] == latest_date].dropna(subset=['total_cases'])\n",
    "\n",
    "top = latest_df.sort_values(by='total_cases', ascending=False).head(10)\n",
    "\n",
    "plt.figure(figsize=(12, 6))\n",
    "sns.barplot(data=top, x='location', y='total_cases', palette='Set2')\n",
    "plt.title('Top 10 Countries by Total COVID-19 Cases')\n",
    "plt.xticks(rotation=45)\n",
    "plt.tight_layout()\n",
    "plt.show()\n"
   ]
  }
 ],
 "metadata": {
  "language_info": {
   "name": "python"
  }
 },
 "nbformat": 4,
 "nbformat_minor": 5
}
